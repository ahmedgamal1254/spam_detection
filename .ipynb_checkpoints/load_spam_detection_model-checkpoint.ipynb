{
 "cells": [
  {
   "cell_type": "code",
   "execution_count": 3,
   "id": "1d0ced3c",
   "metadata": {},
   "outputs": [],
   "source": [
    "import pickle\n",
    "with open(\"model.pkl\",\"rb\") as f:\n",
    "    model=pickle.load(f)"
   ]
  },
  {
   "cell_type": "code",
   "execution_count": 5,
   "id": "87ea30b4",
   "metadata": {},
   "outputs": [
    {
     "data": {
      "text/plain": [
       "array(['ham'], dtype='<U4')"
      ]
     },
     "execution_count": 5,
     "metadata": {},
     "output_type": "execute_result"
    }
   ],
   "source": [
    "model.predict([\"hi,ahmed we love your word\"])"
   ]
  },
  {
   "cell_type": "code",
   "execution_count": 6,
   "id": "434d2fea",
   "metadata": {},
   "outputs": [],
   "source": [
    "def classifier_ham_detection(text):\n",
    "    res=model.predict([text])\n",
    "    if res[0] == 'ham':\n",
    "        return \"this is important email\"\n",
    "    else:\n",
    "        return \"this is spam email\""
   ]
  },
  {
   "cell_type": "code",
   "execution_count": 7,
   "id": "3c949ec0",
   "metadata": {},
   "outputs": [
    {
     "data": {
      "text/plain": [
       "'this is important email'"
      ]
     },
     "execution_count": 7,
     "metadata": {},
     "output_type": "execute_result"
    }
   ],
   "source": [
    "classifier_ham_detection(\"congratulations, ahme you have a medal\")"
   ]
  },
  {
   "cell_type": "code",
   "execution_count": 10,
   "id": "9ef333d4",
   "metadata": {},
   "outputs": [],
   "source": [
    "text=\"\"\"\n",
    "\n",
    "\n",
    "\n",
    "Attention Engineers!\n",
    "\n",
    " \n",
    "\n",
    "We're excited to be rolling out a brand new two-phase competition, the Counting Every Drop Challenge, hosted on behalf of the Bureau of Reclamation, US Department Agriculture's Natural Resources Conservation Service (NRCS) and NASA Tournament Lab.\n",
    "\n",
    " \n",
    "\n",
    "What is the 'Counting Every Drop' Challenge?\n",
    "\n",
    "This Challenge, in partnership with GEONOR, asks participants to design new and improved ground-based precipitation measurement devices that are more reliable, accurate, low maintenance, and able to operate in remote locations during extreme environmental conditions. The ideal solution would be a fluid-free approach as these existing technologies require a high frequency of maintenance. \n",
    "\n",
    " \n",
    "\n",
    "Your new device will better inform water management decisions critical for human safety and environmental health, including forecasting water supplies, monitoring water-year precipitation, controlling floods, and planning for irrigation needs.\n",
    "\n",
    " \n",
    "\n",
    "This Challenge is best suited towards the following skill sets:\n",
    "\n",
    "Geotechnical & Mechanical Engineering\n",
    "Meteorology\n",
    "Hydrology\n",
    "Geotechnology\n",
    "Geography\n",
    "Environmental Science\n",
    "Other related fields\n",
    " \n",
    "\n",
    "The Challenge Prize\n",
    "\n",
    "Counting Every Drop contestants will be competing for their share of a $300,000 USD prize pool. This prize pool will be distributed based on quality of submission, adherence to submission guidelines, and a number of other factors that will be provided to contestants prior to the beginning of the Challenge.\n",
    "\n",
    " \n",
    "\n",
    "Register Now!\n",
    "\n",
    "If you're interested in this Challenge, register below to stay up-to-date with the latest news that can provide additional information for your solution\n",
    "\"\"\""
   ]
  },
  {
   "cell_type": "code",
   "execution_count": 11,
   "id": "9dcd6642",
   "metadata": {},
   "outputs": [
    {
     "data": {
      "text/plain": [
       "'this is important email'"
      ]
     },
     "execution_count": 11,
     "metadata": {},
     "output_type": "execute_result"
    }
   ],
   "source": [
    "classifier_ham_detection(text)"
   ]
  },
  {
   "cell_type": "code",
   "execution_count": 12,
   "id": "90ff07c7",
   "metadata": {},
   "outputs": [
    {
     "data": {
      "text/plain": [
       "'this is spam email'"
      ]
     },
     "execution_count": 12,
     "metadata": {},
     "output_type": "execute_result"
    }
   ],
   "source": [
    "classifier_ham_detection(\"congrats,you won a prize,please check link\")"
   ]
  },
  {
   "cell_type": "code",
   "execution_count": 14,
   "id": "d8d093c0",
   "metadata": {},
   "outputs": [
    {
     "data": {
      "text/plain": [
       "'this is spam email'"
      ]
     },
     "execution_count": 14,
     "metadata": {},
     "output_type": "execute_result"
    }
   ],
   "source": [
    "classifier_ham_detection(\"check the link above this for your prize\")"
   ]
  },
  {
   "cell_type": "code",
   "execution_count": null,
   "id": "5780a095",
   "metadata": {},
   "outputs": [],
   "source": []
  },
  {
   "cell_type": "code",
   "execution_count": null,
   "id": "986da328",
   "metadata": {},
   "outputs": [],
   "source": []
  },
  {
   "cell_type": "code",
   "execution_count": null,
   "id": "e88976b5",
   "metadata": {},
   "outputs": [],
   "source": []
  }
 ],
 "metadata": {
  "kernelspec": {
   "display_name": "Python 3 (ipykernel)",
   "language": "python",
   "name": "python3"
  },
  "language_info": {
   "codemirror_mode": {
    "name": "ipython",
    "version": 3
   },
   "file_extension": ".py",
   "mimetype": "text/x-python",
   "name": "python",
   "nbconvert_exporter": "python",
   "pygments_lexer": "ipython3",
   "version": "3.9.0"
  }
 },
 "nbformat": 4,
 "nbformat_minor": 5
}
